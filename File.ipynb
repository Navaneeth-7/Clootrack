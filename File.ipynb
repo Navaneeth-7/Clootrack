{
 "cells": [
  {
   "cell_type": "code",
   "execution_count": 1,
   "metadata": {},
   "outputs": [],
   "source": [
    "import pandas as pd\n",
    "import numpy as np"
   ]
  },
  {
   "cell_type": "code",
   "execution_count": 9,
   "metadata": {},
   "outputs": [],
   "source": [
    "df = pd.read_csv(\"Data Analyst - Test Data - US.csv\")\n"
   ]
  },
  {
   "cell_type": "code",
   "execution_count": 14,
   "metadata": {},
   "outputs": [
    {
     "name": "stdout",
     "output_type": "stream",
     "text": [
      "<class 'pandas.core.frame.DataFrame'>\n",
      "RangeIndex: 6448 entries, 0 to 6447\n",
      "Data columns (total 3 columns):\n",
      " #   Column    Non-Null Count  Dtype \n",
      "---  ------    --------------  ----- \n",
      " 0   Review    6393 non-null   object\n",
      " 1   date      6448 non-null   object\n",
      " 2   Location  1711 non-null   object\n",
      "dtypes: object(3)\n",
      "memory usage: 151.2+ KB\n"
     ]
    }
   ],
   "source": [
    "df.info()"
   ]
  },
  {
   "cell_type": "code",
   "execution_count": 19,
   "metadata": {},
   "outputs": [
    {
     "data": {
      "text/plain": [
       "array(['2019/08/20', '2019/08/19', '2019/08/18', '2019/08/17',\n",
       "       '2019/08/16', '2019/08/15', '2019/08/14', '2019/08/13',\n",
       "       '2019/08/12', '2019/08/11', '2019/08/10', '2019/08/09',\n",
       "       '2019/08/08', '2019/08/07', '2019/08/06', '2019/08/05',\n",
       "       '2019/08/04', '2019/08/03', '2019/08/02', '2019/08/01',\n",
       "       '2019/07/31', '2019/07/30', '2019/07/29', '2019/07/28',\n",
       "       '2019/07/27', '2019/07/26', '2019/07/25', '2019/07/24',\n",
       "       '2019/07/23', '2019/07/22', '2019/07/21', '2019/07/20',\n",
       "       '2019/07/19', '2019/07/18', '2019/07/17', '2019/07/16',\n",
       "       '2019/07/15', '2019/07/14', '2019/07/13', '2019/07/12',\n",
       "       '2019/07/11', '2019/07/10', '2019/07/09', '2019/07/08',\n",
       "       '2019/07/07', '2019/07/06', '2019/07/05', '2019/07/04',\n",
       "       '2019/07/03', '2019/07/02', '2019/07/01', '2019/06/30',\n",
       "       '2019/06/29', '2019/06/28', '2019/06/27', '2019/06/26',\n",
       "       '2019/06/25', '2019/06/24', '2019/06/23', '2019/06/22',\n",
       "       '2019/06/21', '2019/06/20', '2019/06/19', '2019/06/18',\n",
       "       '2019/06/17', '2019/06/16', '2019/06/15', '2019/06/14',\n",
       "       '2019/06/13', '2019/06/12', '2019/06/11', '2019/06/10',\n",
       "       '2019/06/09', '2019/06/08', '2019/06/07', '2019/06/06',\n",
       "       '2019/06/05', '2019/06/04', '2019/06/03', '2019/06/02',\n",
       "       '2019/06/01', '2019/05/31', '2019/05/30', '2019/05/29',\n",
       "       '2019/05/28', '2019/05/27', '2019/05/26', '2019/05/25',\n",
       "       '2019/05/24', '2019/05/23', '2019/05/22', '2019/05/21',\n",
       "       '2019/05/20', '2019/05/19', '2019/05/18', '2019/05/17',\n",
       "       '2019/05/16', '2019/05/15', '2019/05/14', '2019/05/13',\n",
       "       '2019/05/12', '2019/05/11', '2019/05/10', '2019/05/09',\n",
       "       '2019/05/08', '2019/05/07', '2019/05/06', '2019/05/05',\n",
       "       '2019/05/04', '2019/05/03', '2019/05/02', '2019/05/01',\n",
       "       '2019/04/30', '2019/04/29', '2019/04/28', '2019/04/27',\n",
       "       '2019/04/26', '2019/04/25', '2019/04/24', '2019/04/23',\n",
       "       '2019/04/22', '2019/04/21', '2019/04/20', '2019/04/19',\n",
       "       '2019/04/18', '2019/04/17', '2019/04/16', '2019/04/15',\n",
       "       '2019/04/14', '2019/04/13', '2019/04/12', '2019/04/11',\n",
       "       '2019/04/10', '2019/04/09', '2019/04/08', '2019/04/07',\n",
       "       '2019/04/06', '2019/04/05', '2019/04/04', '2019/04/03',\n",
       "       '2019/04/02', '2019/04/01', '2019/03/31', '2019/03/30',\n",
       "       '2019/03/29', '2019/03/28', '2019/03/27', '2019/03/26',\n",
       "       '2019/03/25', '2019/03/24', '2019/03/23', '2019/03/22',\n",
       "       '2019/03/21', '2019/03/20', '2019/03/19', '2019/03/18',\n",
       "       '2019/03/17', '2019/03/16', '2019/03/15', '2019/03/14',\n",
       "       '2019/03/13', '2019/03/12', '2019/03/11', '2019/03/10',\n",
       "       '2019/03/09', '2019/03/08', '2019/03/07', '2019/03/06',\n",
       "       '2019/03/05', '2019/03/04', '2019/3/4', '2019/3/3', '2019/3/2',\n",
       "       '2019/3/1', '2019/2/28', '2019/2/27', '2019/2/26', '2019/2/25',\n",
       "       '2019/2/24', '2019/2/23', '2019/2/22', '2019/2/21', '2019/2/20',\n",
       "       '2019/2/19', '2019/2/18', '2019/2/17', '2019/2/16', '2019/2/15',\n",
       "       '2019/2/14', '2019/2/13', '2019/2/12', '2019/2/11', '2019/2/10',\n",
       "       '2019/2/9', '2019/2/8', '2019/2/7', '2019/2/6', '2019/2/5',\n",
       "       '2019/2/4', '2019/2/3', '2019/2/2', '2019/2/1', '2019/1/31',\n",
       "       '2019/1/30', '2019/01/30', '2019/01/29', '2019/01/28',\n",
       "       '2019/01/27', '2019/01/26', '2019/01/25', '2019/01/24',\n",
       "       '2019/01/23', '2019/01/22', '2019/1/22', '2019/1/21', '2019/1/20',\n",
       "       '2019/1/19', '2019/1/18', '2019/1/17', '2019/1/16', '2019/1/15',\n",
       "       '2019/1/14', '2019/1/13', '2019/1/12', '2019/1/11', '2019/1/10',\n",
       "       '2019/1/9', '2019/1/8', '2019/1/7', '2019/1/6', '2019/1/5',\n",
       "       '2019/1/4', '2019/1/3', '2019/01/03', '2019/01/02', '2019/01/01',\n",
       "       '2018/12/31', '2018/12/30', '2018/12/29', '2018/12/28',\n",
       "       '2018/12/27', '2018/12/26', '2018/12/25', '2018/12/24',\n",
       "       '2018/12/23', '2018/12/22', '2018/12/21', '2018/12/20',\n",
       "       '2018/12/19', '2018/12/18', '2018/12/17', '2018/12/16',\n",
       "       '2018/12/15', '2018/12/14', '2018/12/13', '2018/12/12',\n",
       "       '2018/12/11', '2018/12/10', '2018/12/09', '2018/12/08',\n",
       "       '2018/12/07', '2018/12/06', '2018/12/05', '2018/12/04',\n",
       "       '2018/12/03', '2018/12/02', '2018/12/01', '2018/11/30',\n",
       "       '2018/11/29', '2018/11/28', '2018/11/27', '2018/11/26',\n",
       "       '2018/11/25', '2018/11/24', '2018/11/23', '2018/11/22',\n",
       "       '2018/11/21', '2018/11/20', '2018/11/19', '2018/11/18',\n",
       "       '2018/11/17', '2018/11/16', '2018/11/15', '2018/11/14',\n",
       "       '2018/11/13', '2018/11/12', '2018/11/11', '2018/11/10',\n",
       "       '2018/11/09', '2018/11/08', '2018/11/07', '2018/11/06',\n",
       "       '2018/11/05', '2018/11/04', '2018/11/03', '2018/11/02',\n",
       "       '2018/11/01', '2018/10/31', '2018/10/30', '2018/10/29',\n",
       "       '2018/10/28', '2018/10/27', '2018/10/26', '2018/10/25',\n",
       "       '2018/10/24', '2018/10/23', '2018/10/22', '2018/10/21',\n",
       "       '2018/10/20', '2018/10/19', '2018/10/18', '2018/10/17',\n",
       "       '2018/10/16', '2018/10/15', '2018/10/14', '2018/10/13',\n",
       "       '2018/10/12', '2018/10/11', '2018/10/10', '2018/10/09',\n",
       "       '2018/10/08', '2018/10/07', '2018/10/06', '2018/10/05',\n",
       "       '2018/10/04', '2018/10/03', '2018/10/02', '2018/10/01',\n",
       "       '2018/09/30', '2018/09/29', '2018/09/28', '2018/09/27',\n",
       "       '2018/09/26', '2018/09/25', '2018/09/24', '2018/09/23',\n",
       "       '2018/09/22', '2018/09/21', '2018/09/20', '2018/09/19',\n",
       "       '2018/09/18', '2018/09/17', '2018/09/16', '2018/09/15',\n",
       "       '2018/09/14', '2018/09/13', '2018/09/12', '2018/09/11',\n",
       "       '2018/09/10', '2018/09/09', '2018/09/08', '2018/09/07',\n",
       "       '2018/09/06', '2018/09/05', '2018/09/04', '2018/09/03',\n",
       "       '2018/09/02', '2018/09/01', '2018/08/31', '2018/08/30',\n",
       "       '2018/08/29', '2018/08/28', '2018/08/27', '2018/08/26',\n",
       "       '2018/08/25', '2018/08/24', '2018/08/23', '2018/08/22',\n",
       "       '2018/08/21', '2018/08/20', '2018/08/19', '2018/08/18',\n",
       "       '2018/08/17', '2018/08/16', '2018/08/15', '2018/08/14',\n",
       "       '2018/08/13', '2018/08/12', '2018/08/11', '2018/08/10',\n",
       "       '2018/08/09', '2018/08/08', '2018/08/07', '2018/08/06',\n",
       "       '2018/08/05', '2018/08/04', '2018/08/03', '2018/08/02',\n",
       "       '2018/08/01', '2019/02/01', '2019/03/01', 'Dec 2018', 'Aug 2018',\n",
       "       'Jul 2019', 'Sep 2018', 'Oct 2018', 'Jan 2019', 'Feb 2019',\n",
       "       'Apr 2019', 'Mar 2019', 'May 2019', 'Jun 2019', 'Nov 2018'],\n",
       "      dtype=object)"
      ]
     },
     "execution_count": 19,
     "metadata": {},
     "output_type": "execute_result"
    }
   ],
   "source": [
    "df[\"date\"].unique()"
   ]
  },
  {
   "cell_type": "code",
   "execution_count": 20,
   "metadata": {},
   "outputs": [
    {
     "data": {
      "text/plain": [
       "date\n",
       "Jun 2019      145\n",
       "May 2019      121\n",
       "Jul 2019       92\n",
       "2018/12/01     66\n",
       "Oct 2018       58\n",
       "             ... \n",
       "2018/09/28      3\n",
       "2019/06/06      2\n",
       "Dec 2018        2\n",
       "2019/05/31      2\n",
       "2019/06/08      2\n",
       "Name: count, Length: 403, dtype: int64"
      ]
     },
     "execution_count": 20,
     "metadata": {},
     "output_type": "execute_result"
    }
   ],
   "source": [
    "df[\"date\"].value_counts()"
   ]
  },
  {
   "cell_type": "code",
   "execution_count": 22,
   "metadata": {},
   "outputs": [
    {
     "data": {
      "text/plain": [
       "'2018/08/01'"
      ]
     },
     "execution_count": 22,
     "metadata": {},
     "output_type": "execute_result"
    }
   ],
   "source": [
    "df[\"date\"].min()"
   ]
  },
  {
   "cell_type": "code",
   "execution_count": 23,
   "metadata": {},
   "outputs": [
    {
     "data": {
      "text/plain": [
       "Location\n",
       "United States of America    116\n",
       "New York                     34\n",
       "California                   19\n",
       "San Jose                     19\n",
       "Canada                       16\n",
       "                           ... \n",
       "Halifax, N.S.                 1\n",
       "State College, PA             1\n",
       "Los ángeles , us              1\n",
       "Stroudsburg Pa US             1\n",
       "Trinidad and Tobago           1\n",
       "Name: count, Length: 1082, dtype: int64"
      ]
     },
     "execution_count": 23,
     "metadata": {},
     "output_type": "execute_result"
    }
   ],
   "source": [
    "df[\"Location\"].value_counts()"
   ]
  },
  {
   "cell_type": "code",
   "execution_count": 24,
   "metadata": {},
   "outputs": [
    {
     "data": {
      "text/plain": [
       "array(['Sebastian', 'Los Angeles', 'Georgia', ..., 'India', 'Malaysia',\n",
       "       'Trinidad and Tobago'], dtype=object)"
      ]
     },
     "execution_count": 24,
     "metadata": {},
     "output_type": "execute_result"
    }
   ],
   "source": [
    "df[\"Location\"].unique()"
   ]
  },
  {
   "cell_type": "code",
   "execution_count": 25,
   "metadata": {},
   "outputs": [
    {
     "data": {
      "text/plain": [
       "1082"
      ]
     },
     "execution_count": 25,
     "metadata": {},
     "output_type": "execute_result"
    }
   ],
   "source": [
    "df[\"Location\"].nunique()"
   ]
  },
  {
   "cell_type": "code",
   "execution_count": 26,
   "metadata": {},
   "outputs": [
    {
     "name": "stdout",
     "output_type": "stream",
     "text": [
      "Collecting langid\n",
      "  Downloading langid-1.1.6.tar.gz (1.9 MB)\n",
      "     ---------------------------------------- 1.9/1.9 MB 3.3 MB/s eta 0:00:00\n",
      "  Preparing metadata (setup.py): started\n",
      "  Preparing metadata (setup.py): finished with status 'done'\n",
      "Requirement already satisfied: numpy in c:\\users\\lenovo\\appdata\\local\\programs\\python\\python310\\lib\\site-packages (from langid) (1.24.2)\n",
      "Using legacy 'setup.py install' for langid, since package 'wheel' is not installed.\n",
      "Installing collected packages: langid\n",
      "  Running setup.py install for langid: started\n",
      "  Running setup.py install for langid: finished with status 'done'\n",
      "Successfully installed langid-1.1.6\n"
     ]
    },
    {
     "name": "stderr",
     "output_type": "stream",
     "text": [
      "WARNING: You are using pip version 22.0.4; however, version 23.3.1 is available.\n",
      "You should consider upgrading via the 'C:\\Users\\Lenovo\\AppData\\Local\\Programs\\Python\\Python310\\python.exe -m pip install --upgrade pip' command.\n"
     ]
    }
   ],
   "source": [
    "!pip install langid"
   ]
  },
  {
   "cell_type": "code",
   "execution_count": 36,
   "metadata": {},
   "outputs": [],
   "source": [
    "\n",
    "import langid\n",
    "\n",
    "def language_identifier(text):\n",
    "    return langid.classify(text)\n",
    "\n",
    "df_1['predicted_language'] = df_1['Review'].apply(language_identifier)\n"
   ]
  },
  {
   "cell_type": "code",
   "execution_count": 31,
   "metadata": {},
   "outputs": [],
   "source": [
    "df_1 = df[\"Review\"].fillna(\"N/A\")"
   ]
  },
  {
   "cell_type": "code",
   "execution_count": 34,
   "metadata": {},
   "outputs": [],
   "source": [
    "df_1 = pd.DataFrame({\"Review\":df_1})"
   ]
  },
  {
   "cell_type": "code",
   "execution_count": 35,
   "metadata": {},
   "outputs": [
    {
     "data": {
      "text/html": [
       "<div>\n",
       "<style scoped>\n",
       "    .dataframe tbody tr th:only-of-type {\n",
       "        vertical-align: middle;\n",
       "    }\n",
       "\n",
       "    .dataframe tbody tr th {\n",
       "        vertical-align: top;\n",
       "    }\n",
       "\n",
       "    .dataframe thead th {\n",
       "        text-align: right;\n",
       "    }\n",
       "</style>\n",
       "<table border=\"1\" class=\"dataframe\">\n",
       "  <thead>\n",
       "    <tr style=\"text-align: right;\">\n",
       "      <th></th>\n",
       "      <th>Review</th>\n",
       "    </tr>\n",
       "  </thead>\n",
       "  <tbody>\n",
       "    <tr>\n",
       "      <th>0</th>\n",
       "      <td>I was very impressed with the resort.\\n Great ...</td>\n",
       "    </tr>\n",
       "    <tr>\n",
       "      <th>1</th>\n",
       "      <td>The rooms were nice the outside needs work als...</td>\n",
       "    </tr>\n",
       "    <tr>\n",
       "      <th>2</th>\n",
       "      <td>Great location! I have stayed at this hotel on...</td>\n",
       "    </tr>\n",
       "    <tr>\n",
       "      <th>3</th>\n",
       "      <td>The hotel was adequate for my stay. The strips...</td>\n",
       "    </tr>\n",
       "    <tr>\n",
       "      <th>4</th>\n",
       "      <td>Great location, room was large and spacious. P...</td>\n",
       "    </tr>\n",
       "    <tr>\n",
       "      <th>...</th>\n",
       "      <td>...</td>\n",
       "    </tr>\n",
       "    <tr>\n",
       "      <th>6443</th>\n",
       "      <td>·the staff were all so friendly. frank, the ch...</td>\n",
       "    </tr>\n",
       "    <tr>\n",
       "      <th>6444</th>\n",
       "      <td>·the internet barely worked or didn't work</td>\n",
       "    </tr>\n",
       "    <tr>\n",
       "      <th>6445</th>\n",
       "      <td>·the location was great.\\n \\n \\n \\n \\n ·the be...</td>\n",
       "    </tr>\n",
       "    <tr>\n",
       "      <th>6446</th>\n",
       "      <td>·we were early for check in and the staff was ...</td>\n",
       "    </tr>\n",
       "    <tr>\n",
       "      <th>6447</th>\n",
       "      <td>·staff, free coffee, location and activities.\\...</td>\n",
       "    </tr>\n",
       "  </tbody>\n",
       "</table>\n",
       "<p>6448 rows × 1 columns</p>\n",
       "</div>"
      ],
      "text/plain": [
       "                                                 Review\n",
       "0     I was very impressed with the resort.\\n Great ...\n",
       "1     The rooms were nice the outside needs work als...\n",
       "2     Great location! I have stayed at this hotel on...\n",
       "3     The hotel was adequate for my stay. The strips...\n",
       "4     Great location, room was large and spacious. P...\n",
       "...                                                 ...\n",
       "6443  ·the staff were all so friendly. frank, the ch...\n",
       "6444         ·the internet barely worked or didn't work\n",
       "6445  ·the location was great.\\n \\n \\n \\n \\n ·the be...\n",
       "6446  ·we were early for check in and the staff was ...\n",
       "6447  ·staff, free coffee, location and activities.\\...\n",
       "\n",
       "[6448 rows x 1 columns]"
      ]
     },
     "execution_count": 35,
     "metadata": {},
     "output_type": "execute_result"
    }
   ],
   "source": [
    "df_1"
   ]
  },
  {
   "cell_type": "code",
   "execution_count": 37,
   "metadata": {},
   "outputs": [
    {
     "data": {
      "text/html": [
       "<div>\n",
       "<style scoped>\n",
       "    .dataframe tbody tr th:only-of-type {\n",
       "        vertical-align: middle;\n",
       "    }\n",
       "\n",
       "    .dataframe tbody tr th {\n",
       "        vertical-align: top;\n",
       "    }\n",
       "\n",
       "    .dataframe thead th {\n",
       "        text-align: right;\n",
       "    }\n",
       "</style>\n",
       "<table border=\"1\" class=\"dataframe\">\n",
       "  <thead>\n",
       "    <tr style=\"text-align: right;\">\n",
       "      <th></th>\n",
       "      <th>Review</th>\n",
       "      <th>predicted_language</th>\n",
       "    </tr>\n",
       "  </thead>\n",
       "  <tbody>\n",
       "    <tr>\n",
       "      <th>0</th>\n",
       "      <td>I was very impressed with the resort.\\n Great ...</td>\n",
       "      <td>(en, -319.5047106742859)</td>\n",
       "    </tr>\n",
       "    <tr>\n",
       "      <th>1</th>\n",
       "      <td>The rooms were nice the outside needs work als...</td>\n",
       "      <td>(en, -338.9131441116333)</td>\n",
       "    </tr>\n",
       "    <tr>\n",
       "      <th>2</th>\n",
       "      <td>Great location! I have stayed at this hotel on...</td>\n",
       "      <td>(en, -143.37122583389282)</td>\n",
       "    </tr>\n",
       "    <tr>\n",
       "      <th>3</th>\n",
       "      <td>The hotel was adequate for my stay. The strips...</td>\n",
       "      <td>(en, -1101.9776706695557)</td>\n",
       "    </tr>\n",
       "    <tr>\n",
       "      <th>4</th>\n",
       "      <td>Great location, room was large and spacious. P...</td>\n",
       "      <td>(en, -249.18021440505981)</td>\n",
       "    </tr>\n",
       "    <tr>\n",
       "      <th>...</th>\n",
       "      <td>...</td>\n",
       "      <td>...</td>\n",
       "    </tr>\n",
       "    <tr>\n",
       "      <th>6443</th>\n",
       "      <td>·the staff were all so friendly. frank, the ch...</td>\n",
       "      <td>(en, -1572.544021844864)</td>\n",
       "    </tr>\n",
       "    <tr>\n",
       "      <th>6444</th>\n",
       "      <td>·the internet barely worked or didn't work</td>\n",
       "      <td>(en, -128.40843152999878)</td>\n",
       "    </tr>\n",
       "    <tr>\n",
       "      <th>6445</th>\n",
       "      <td>·the location was great.\\n \\n \\n \\n \\n ·the be...</td>\n",
       "      <td>(en, -286.22187900543213)</td>\n",
       "    </tr>\n",
       "    <tr>\n",
       "      <th>6446</th>\n",
       "      <td>·we were early for check in and the staff was ...</td>\n",
       "      <td>(en, -260.85845279693604)</td>\n",
       "    </tr>\n",
       "    <tr>\n",
       "      <th>6447</th>\n",
       "      <td>·staff, free coffee, location and activities.\\...</td>\n",
       "      <td>(en, -201.57802772521973)</td>\n",
       "    </tr>\n",
       "  </tbody>\n",
       "</table>\n",
       "<p>6448 rows × 2 columns</p>\n",
       "</div>"
      ],
      "text/plain": [
       "                                                 Review  \\\n",
       "0     I was very impressed with the resort.\\n Great ...   \n",
       "1     The rooms were nice the outside needs work als...   \n",
       "2     Great location! I have stayed at this hotel on...   \n",
       "3     The hotel was adequate for my stay. The strips...   \n",
       "4     Great location, room was large and spacious. P...   \n",
       "...                                                 ...   \n",
       "6443  ·the staff were all so friendly. frank, the ch...   \n",
       "6444         ·the internet barely worked or didn't work   \n",
       "6445  ·the location was great.\\n \\n \\n \\n \\n ·the be...   \n",
       "6446  ·we were early for check in and the staff was ...   \n",
       "6447  ·staff, free coffee, location and activities.\\...   \n",
       "\n",
       "             predicted_language  \n",
       "0      (en, -319.5047106742859)  \n",
       "1      (en, -338.9131441116333)  \n",
       "2     (en, -143.37122583389282)  \n",
       "3     (en, -1101.9776706695557)  \n",
       "4     (en, -249.18021440505981)  \n",
       "...                         ...  \n",
       "6443   (en, -1572.544021844864)  \n",
       "6444  (en, -128.40843152999878)  \n",
       "6445  (en, -286.22187900543213)  \n",
       "6446  (en, -260.85845279693604)  \n",
       "6447  (en, -201.57802772521973)  \n",
       "\n",
       "[6448 rows x 2 columns]"
      ]
     },
     "execution_count": 37,
     "metadata": {},
     "output_type": "execute_result"
    }
   ],
   "source": [
    "df_1"
   ]
  },
  {
   "cell_type": "code",
   "execution_count": 42,
   "metadata": {},
   "outputs": [],
   "source": [
    "df_1[\"Language\"] = df_1[\"predicted_language\"].apply(lambda x:x[0])"
   ]
  },
  {
   "cell_type": "code",
   "execution_count": 45,
   "metadata": {},
   "outputs": [
    {
     "data": {
      "text/plain": [
       "Language\n",
       "en    5804\n",
       "fr     166\n",
       "es     158\n",
       "de      94\n",
       "ja      40\n",
       "it      35\n",
       "pt      33\n",
       "nl      27\n",
       "da      18\n",
       "zh      15\n",
       "ko      14\n",
       "no      10\n",
       "sv       8\n",
       "ca       5\n",
       "fi       4\n",
       "la       3\n",
       "nb       2\n",
       "ru       2\n",
       "gl       1\n",
       "am       1\n",
       "hu       1\n",
       "vi       1\n",
       "cs       1\n",
       "pl       1\n",
       "wa       1\n",
       "mt       1\n",
       "he       1\n",
       "ar       1\n",
       "Name: count, dtype: int64"
      ]
     },
     "execution_count": 45,
     "metadata": {},
     "output_type": "execute_result"
    }
   ],
   "source": [
    "df_1[\"Language\"].value_counts()"
   ]
  },
  {
   "cell_type": "code",
   "execution_count": 46,
   "metadata": {},
   "outputs": [
    {
     "name": "stdout",
     "output_type": "stream",
     "text": [
      "Collecting textblob\n",
      "  Downloading textblob-0.17.1-py2.py3-none-any.whl (636 kB)\n",
      "     -------------------------------------- 636.8/636.8 KB 2.2 MB/s eta 0:00:00\n",
      "Collecting nltk>=3.1\n",
      "  Downloading nltk-3.8.1-py3-none-any.whl (1.5 MB)\n",
      "     ---------------------------------------- 1.5/1.5 MB 3.7 MB/s eta 0:00:00\n",
      "Collecting click\n",
      "  Downloading click-8.1.7-py3-none-any.whl (97 kB)\n",
      "     ---------------------------------------- 97.9/97.9 KB 2.8 MB/s eta 0:00:00\n",
      "Collecting joblib\n",
      "  Downloading joblib-1.3.2-py3-none-any.whl (302 kB)\n",
      "     -------------------------------------- 302.2/302.2 KB 6.3 MB/s eta 0:00:00\n",
      "Collecting regex>=2021.8.3\n",
      "  Downloading regex-2023.10.3-cp310-cp310-win_amd64.whl (269 kB)\n",
      "     -------------------------------------- 269.6/269.6 KB 5.5 MB/s eta 0:00:00\n",
      "Collecting tqdm\n",
      "  Downloading tqdm-4.66.1-py3-none-any.whl (78 kB)\n",
      "     ---------------------------------------- 78.3/78.3 KB 1.5 MB/s eta 0:00:00\n",
      "Requirement already satisfied: colorama in c:\\users\\lenovo\\appdata\\roaming\\python\\python310\\site-packages (from click->nltk>=3.1->textblob) (0.4.6)\n",
      "Installing collected packages: tqdm, regex, joblib, click, nltk, textblob\n",
      "Successfully installed click-8.1.7 joblib-1.3.2 nltk-3.8.1 regex-2023.10.3 textblob-0.17.1 tqdm-4.66.1\n"
     ]
    },
    {
     "name": "stderr",
     "output_type": "stream",
     "text": [
      "WARNING: You are using pip version 22.0.4; however, version 23.3.1 is available.\n",
      "You should consider upgrading via the 'C:\\Users\\Lenovo\\AppData\\Local\\Programs\\Python\\Python310\\python.exe -m pip install --upgrade pip' command.\n"
     ]
    }
   ],
   "source": [
    "%pip install textblob"
   ]
  },
  {
   "cell_type": "code",
   "execution_count": 47,
   "metadata": {},
   "outputs": [],
   "source": [
    "from textblob import TextBlob\n",
    "\n",
    "\n",
    "def perform_sentiment_analysis(text):\n",
    "    analysis = TextBlob(text)\n",
    "    return 'positive' if analysis.sentiment.polarity > 0 else 'negative' if analysis.sentiment.polarity < 0 else 'neutral'\n",
    "\n",
    "df_1['sentiment'] = df_1['Review'].apply(perform_sentiment_analysis)"
   ]
  },
  {
   "cell_type": "code",
   "execution_count": 48,
   "metadata": {},
   "outputs": [
    {
     "data": {
      "text/html": [
       "<div>\n",
       "<style scoped>\n",
       "    .dataframe tbody tr th:only-of-type {\n",
       "        vertical-align: middle;\n",
       "    }\n",
       "\n",
       "    .dataframe tbody tr th {\n",
       "        vertical-align: top;\n",
       "    }\n",
       "\n",
       "    .dataframe thead th {\n",
       "        text-align: right;\n",
       "    }\n",
       "</style>\n",
       "<table border=\"1\" class=\"dataframe\">\n",
       "  <thead>\n",
       "    <tr style=\"text-align: right;\">\n",
       "      <th></th>\n",
       "      <th>Review</th>\n",
       "      <th>predicted_language</th>\n",
       "      <th>Language</th>\n",
       "      <th>sentiment</th>\n",
       "    </tr>\n",
       "  </thead>\n",
       "  <tbody>\n",
       "    <tr>\n",
       "      <th>0</th>\n",
       "      <td>I was very impressed with the resort.\\n Great ...</td>\n",
       "      <td>(en, -319.5047106742859)</td>\n",
       "      <td>en</td>\n",
       "      <td>positive</td>\n",
       "    </tr>\n",
       "    <tr>\n",
       "      <th>1</th>\n",
       "      <td>The rooms were nice the outside needs work als...</td>\n",
       "      <td>(en, -338.9131441116333)</td>\n",
       "      <td>en</td>\n",
       "      <td>positive</td>\n",
       "    </tr>\n",
       "    <tr>\n",
       "      <th>2</th>\n",
       "      <td>Great location! I have stayed at this hotel on...</td>\n",
       "      <td>(en, -143.37122583389282)</td>\n",
       "      <td>en</td>\n",
       "      <td>positive</td>\n",
       "    </tr>\n",
       "    <tr>\n",
       "      <th>3</th>\n",
       "      <td>The hotel was adequate for my stay. The strips...</td>\n",
       "      <td>(en, -1101.9776706695557)</td>\n",
       "      <td>en</td>\n",
       "      <td>positive</td>\n",
       "    </tr>\n",
       "    <tr>\n",
       "      <th>4</th>\n",
       "      <td>Great location, room was large and spacious. P...</td>\n",
       "      <td>(en, -249.18021440505981)</td>\n",
       "      <td>en</td>\n",
       "      <td>positive</td>\n",
       "    </tr>\n",
       "    <tr>\n",
       "      <th>...</th>\n",
       "      <td>...</td>\n",
       "      <td>...</td>\n",
       "      <td>...</td>\n",
       "      <td>...</td>\n",
       "    </tr>\n",
       "    <tr>\n",
       "      <th>6443</th>\n",
       "      <td>·the staff were all so friendly. frank, the ch...</td>\n",
       "      <td>(en, -1572.544021844864)</td>\n",
       "      <td>en</td>\n",
       "      <td>positive</td>\n",
       "    </tr>\n",
       "    <tr>\n",
       "      <th>6444</th>\n",
       "      <td>·the internet barely worked or didn't work</td>\n",
       "      <td>(en, -128.40843152999878)</td>\n",
       "      <td>en</td>\n",
       "      <td>positive</td>\n",
       "    </tr>\n",
       "    <tr>\n",
       "      <th>6445</th>\n",
       "      <td>·the location was great.\\n \\n \\n \\n \\n ·the be...</td>\n",
       "      <td>(en, -286.22187900543213)</td>\n",
       "      <td>en</td>\n",
       "      <td>positive</td>\n",
       "    </tr>\n",
       "    <tr>\n",
       "      <th>6446</th>\n",
       "      <td>·we were early for check in and the staff was ...</td>\n",
       "      <td>(en, -260.85845279693604)</td>\n",
       "      <td>en</td>\n",
       "      <td>positive</td>\n",
       "    </tr>\n",
       "    <tr>\n",
       "      <th>6447</th>\n",
       "      <td>·staff, free coffee, location and activities.\\...</td>\n",
       "      <td>(en, -201.57802772521973)</td>\n",
       "      <td>en</td>\n",
       "      <td>positive</td>\n",
       "    </tr>\n",
       "  </tbody>\n",
       "</table>\n",
       "<p>6448 rows × 4 columns</p>\n",
       "</div>"
      ],
      "text/plain": [
       "                                                 Review  \\\n",
       "0     I was very impressed with the resort.\\n Great ...   \n",
       "1     The rooms were nice the outside needs work als...   \n",
       "2     Great location! I have stayed at this hotel on...   \n",
       "3     The hotel was adequate for my stay. The strips...   \n",
       "4     Great location, room was large and spacious. P...   \n",
       "...                                                 ...   \n",
       "6443  ·the staff were all so friendly. frank, the ch...   \n",
       "6444         ·the internet barely worked or didn't work   \n",
       "6445  ·the location was great.\\n \\n \\n \\n \\n ·the be...   \n",
       "6446  ·we were early for check in and the staff was ...   \n",
       "6447  ·staff, free coffee, location and activities.\\...   \n",
       "\n",
       "             predicted_language Language sentiment  \n",
       "0      (en, -319.5047106742859)       en  positive  \n",
       "1      (en, -338.9131441116333)       en  positive  \n",
       "2     (en, -143.37122583389282)       en  positive  \n",
       "3     (en, -1101.9776706695557)       en  positive  \n",
       "4     (en, -249.18021440505981)       en  positive  \n",
       "...                         ...      ...       ...  \n",
       "6443   (en, -1572.544021844864)       en  positive  \n",
       "6444  (en, -128.40843152999878)       en  positive  \n",
       "6445  (en, -286.22187900543213)       en  positive  \n",
       "6446  (en, -260.85845279693604)       en  positive  \n",
       "6447  (en, -201.57802772521973)       en  positive  \n",
       "\n",
       "[6448 rows x 4 columns]"
      ]
     },
     "execution_count": 48,
     "metadata": {},
     "output_type": "execute_result"
    }
   ],
   "source": [
    "df_1"
   ]
  },
  {
   "cell_type": "code",
   "execution_count": 49,
   "metadata": {},
   "outputs": [
    {
     "data": {
      "text/plain": [
       "sentiment\n",
       "positive    5616\n",
       "negative     744\n",
       "neutral       88\n",
       "Name: count, dtype: int64"
      ]
     },
     "execution_count": 49,
     "metadata": {},
     "output_type": "execute_result"
    }
   ],
   "source": [
    "df_1[\"sentiment\"].value_counts()"
   ]
  },
  {
   "cell_type": "code",
   "execution_count": 50,
   "metadata": {},
   "outputs": [
    {
     "name": "stdout",
     "output_type": "stream",
     "text": [
      "Requirement already satisfied: nltk in c:\\users\\lenovo\\appdata\\local\\programs\\python\\python310\\lib\\site-packages (3.8.1)\n",
      "Requirement already satisfied: regex>=2021.8.3 in c:\\users\\lenovo\\appdata\\local\\programs\\python\\python310\\lib\\site-packages (from nltk) (2023.10.3)\n",
      "Requirement already satisfied: joblib in c:\\users\\lenovo\\appdata\\local\\programs\\python\\python310\\lib\\site-packages (from nltk) (1.3.2)\n",
      "Requirement already satisfied: click in c:\\users\\lenovo\\appdata\\local\\programs\\python\\python310\\lib\\site-packages (from nltk) (8.1.7)\n",
      "Requirement already satisfied: tqdm in c:\\users\\lenovo\\appdata\\local\\programs\\python\\python310\\lib\\site-packages (from nltk) (4.66.1)\n",
      "Requirement already satisfied: colorama in c:\\users\\lenovo\\appdata\\roaming\\python\\python310\\site-packages (from click->nltk) (0.4.6)\n",
      "Note: you may need to restart the kernel to use updated packages.\n"
     ]
    },
    {
     "name": "stderr",
     "output_type": "stream",
     "text": [
      "WARNING: You are using pip version 22.0.4; however, version 23.3.1 is available.\n",
      "You should consider upgrading via the 'c:\\Users\\Lenovo\\AppData\\Local\\Programs\\Python\\Python310\\python.exe -m pip install --upgrade pip' command.\n"
     ]
    }
   ],
   "source": [
    "%pip install nltk"
   ]
  },
  {
   "cell_type": "code",
   "execution_count": 54,
   "metadata": {},
   "outputs": [
    {
     "data": {
      "text/plain": [
       "0       I was very impressed with the resort.\\n Great ...\n",
       "1       The rooms were nice the outside needs work als...\n",
       "2       Great location! I have stayed at this hotel on...\n",
       "3       The hotel was adequate for my stay. The strips...\n",
       "4       Great location, room was large and spacious. P...\n",
       "                              ...                        \n",
       "6443    ·the staff were all so friendly. frank, the ch...\n",
       "6444           ·the internet barely worked or didn't work\n",
       "6445    ·the location was great.\\n \\n \\n \\n \\n ·the be...\n",
       "6446    ·we were early for check in and the staff was ...\n",
       "6447    ·staff, free coffee, location and activities.\\...\n",
       "Name: Review, Length: 6448, dtype: object"
      ]
     },
     "execution_count": 54,
     "metadata": {},
     "output_type": "execute_result"
    }
   ],
   "source": [
    "df_1[\"Review\"].str.split"
   ]
  },
  {
   "cell_type": "code",
   "execution_count": 55,
   "metadata": {},
   "outputs": [],
   "source": [
    "def remove_n(text):\n",
    "    return text.replace(\"\\n\", \" \")\n",
    "\n",
    "df_1['New_review'] = df_1['Review'].apply(remove_n)\n"
   ]
  },
  {
   "cell_type": "code",
   "execution_count": 56,
   "metadata": {},
   "outputs": [
    {
     "data": {
      "text/html": [
       "<div>\n",
       "<style scoped>\n",
       "    .dataframe tbody tr th:only-of-type {\n",
       "        vertical-align: middle;\n",
       "    }\n",
       "\n",
       "    .dataframe tbody tr th {\n",
       "        vertical-align: top;\n",
       "    }\n",
       "\n",
       "    .dataframe thead th {\n",
       "        text-align: right;\n",
       "    }\n",
       "</style>\n",
       "<table border=\"1\" class=\"dataframe\">\n",
       "  <thead>\n",
       "    <tr style=\"text-align: right;\">\n",
       "      <th></th>\n",
       "      <th>Review</th>\n",
       "      <th>predicted_language</th>\n",
       "      <th>Language</th>\n",
       "      <th>sentiment</th>\n",
       "      <th>New_review</th>\n",
       "    </tr>\n",
       "  </thead>\n",
       "  <tbody>\n",
       "    <tr>\n",
       "      <th>0</th>\n",
       "      <td>I was very impressed with the resort.\\n Great ...</td>\n",
       "      <td>(en, -319.5047106742859)</td>\n",
       "      <td>en</td>\n",
       "      <td>positive</td>\n",
       "      <td>I was very impressed with the resort.  Great s...</td>\n",
       "    </tr>\n",
       "    <tr>\n",
       "      <th>1</th>\n",
       "      <td>The rooms were nice the outside needs work als...</td>\n",
       "      <td>(en, -338.9131441116333)</td>\n",
       "      <td>en</td>\n",
       "      <td>positive</td>\n",
       "      <td>The rooms were nice the outside needs work als...</td>\n",
       "    </tr>\n",
       "    <tr>\n",
       "      <th>2</th>\n",
       "      <td>Great location! I have stayed at this hotel on...</td>\n",
       "      <td>(en, -143.37122583389282)</td>\n",
       "      <td>en</td>\n",
       "      <td>positive</td>\n",
       "      <td>Great location! I have stayed at this hotel on...</td>\n",
       "    </tr>\n",
       "    <tr>\n",
       "      <th>3</th>\n",
       "      <td>The hotel was adequate for my stay. The strips...</td>\n",
       "      <td>(en, -1101.9776706695557)</td>\n",
       "      <td>en</td>\n",
       "      <td>positive</td>\n",
       "      <td>The hotel was adequate for my stay. The strips...</td>\n",
       "    </tr>\n",
       "    <tr>\n",
       "      <th>4</th>\n",
       "      <td>Great location, room was large and spacious. P...</td>\n",
       "      <td>(en, -249.18021440505981)</td>\n",
       "      <td>en</td>\n",
       "      <td>positive</td>\n",
       "      <td>Great location, room was large and spacious. P...</td>\n",
       "    </tr>\n",
       "    <tr>\n",
       "      <th>...</th>\n",
       "      <td>...</td>\n",
       "      <td>...</td>\n",
       "      <td>...</td>\n",
       "      <td>...</td>\n",
       "      <td>...</td>\n",
       "    </tr>\n",
       "    <tr>\n",
       "      <th>6443</th>\n",
       "      <td>·the staff were all so friendly. frank, the ch...</td>\n",
       "      <td>(en, -1572.544021844864)</td>\n",
       "      <td>en</td>\n",
       "      <td>positive</td>\n",
       "      <td>·the staff were all so friendly. frank, the ch...</td>\n",
       "    </tr>\n",
       "    <tr>\n",
       "      <th>6444</th>\n",
       "      <td>·the internet barely worked or didn't work</td>\n",
       "      <td>(en, -128.40843152999878)</td>\n",
       "      <td>en</td>\n",
       "      <td>positive</td>\n",
       "      <td>·the internet barely worked or didn't work</td>\n",
       "    </tr>\n",
       "    <tr>\n",
       "      <th>6445</th>\n",
       "      <td>·the location was great.\\n \\n \\n \\n \\n ·the be...</td>\n",
       "      <td>(en, -286.22187900543213)</td>\n",
       "      <td>en</td>\n",
       "      <td>positive</td>\n",
       "      <td>·the location was great.          ·the bed was...</td>\n",
       "    </tr>\n",
       "    <tr>\n",
       "      <th>6446</th>\n",
       "      <td>·we were early for check in and the staff was ...</td>\n",
       "      <td>(en, -260.85845279693604)</td>\n",
       "      <td>en</td>\n",
       "      <td>positive</td>\n",
       "      <td>·we were early for check in and the staff was ...</td>\n",
       "    </tr>\n",
       "    <tr>\n",
       "      <th>6447</th>\n",
       "      <td>·staff, free coffee, location and activities.\\...</td>\n",
       "      <td>(en, -201.57802772521973)</td>\n",
       "      <td>en</td>\n",
       "      <td>positive</td>\n",
       "      <td>·staff, free coffee, location and activities. ...</td>\n",
       "    </tr>\n",
       "  </tbody>\n",
       "</table>\n",
       "<p>6448 rows × 5 columns</p>\n",
       "</div>"
      ],
      "text/plain": [
       "                                                 Review  \\\n",
       "0     I was very impressed with the resort.\\n Great ...   \n",
       "1     The rooms were nice the outside needs work als...   \n",
       "2     Great location! I have stayed at this hotel on...   \n",
       "3     The hotel was adequate for my stay. The strips...   \n",
       "4     Great location, room was large and spacious. P...   \n",
       "...                                                 ...   \n",
       "6443  ·the staff were all so friendly. frank, the ch...   \n",
       "6444         ·the internet barely worked or didn't work   \n",
       "6445  ·the location was great.\\n \\n \\n \\n \\n ·the be...   \n",
       "6446  ·we were early for check in and the staff was ...   \n",
       "6447  ·staff, free coffee, location and activities.\\...   \n",
       "\n",
       "             predicted_language Language sentiment  \\\n",
       "0      (en, -319.5047106742859)       en  positive   \n",
       "1      (en, -338.9131441116333)       en  positive   \n",
       "2     (en, -143.37122583389282)       en  positive   \n",
       "3     (en, -1101.9776706695557)       en  positive   \n",
       "4     (en, -249.18021440505981)       en  positive   \n",
       "...                         ...      ...       ...   \n",
       "6443   (en, -1572.544021844864)       en  positive   \n",
       "6444  (en, -128.40843152999878)       en  positive   \n",
       "6445  (en, -286.22187900543213)       en  positive   \n",
       "6446  (en, -260.85845279693604)       en  positive   \n",
       "6447  (en, -201.57802772521973)       en  positive   \n",
       "\n",
       "                                             New_review  \n",
       "0     I was very impressed with the resort.  Great s...  \n",
       "1     The rooms were nice the outside needs work als...  \n",
       "2     Great location! I have stayed at this hotel on...  \n",
       "3     The hotel was adequate for my stay. The strips...  \n",
       "4     Great location, room was large and spacious. P...  \n",
       "...                                                 ...  \n",
       "6443  ·the staff were all so friendly. frank, the ch...  \n",
       "6444         ·the internet barely worked or didn't work  \n",
       "6445  ·the location was great.          ·the bed was...  \n",
       "6446  ·we were early for check in and the staff was ...  \n",
       "6447  ·staff, free coffee, location and activities. ...  \n",
       "\n",
       "[6448 rows x 5 columns]"
      ]
     },
     "execution_count": 56,
     "metadata": {},
     "output_type": "execute_result"
    }
   ],
   "source": [
    "df_1"
   ]
  },
  {
   "cell_type": "code",
   "execution_count": 57,
   "metadata": {},
   "outputs": [
    {
     "name": "stdout",
     "output_type": "stream",
     "text": [
      "Collecting seabornNote: you may need to restart the kernel to use updated packages.\n"
     ]
    },
    {
     "name": "stderr",
     "output_type": "stream",
     "text": [
      "WARNING: You are using pip version 22.0.4; however, version 23.3.1 is available.\n",
      "You should consider upgrading via the 'c:\\Users\\Lenovo\\AppData\\Local\\Programs\\Python\\Python310\\python.exe -m pip install --upgrade pip' command.\n"
     ]
    },
    {
     "name": "stdout",
     "output_type": "stream",
     "text": [
      "\n",
      "  Downloading seaborn-0.13.0-py3-none-any.whl (294 kB)\n",
      "     -------------------------------------- 294.6/294.6 KB 2.6 MB/s eta 0:00:00\n",
      "Requirement already satisfied: pandas>=1.2 in c:\\users\\lenovo\\appdata\\local\\programs\\python\\python310\\lib\\site-packages (from seaborn) (2.1.1)\n",
      "Collecting matplotlib!=3.6.1,>=3.3\n",
      "  Downloading matplotlib-3.8.2-cp310-cp310-win_amd64.whl (7.6 MB)\n",
      "     ---------------------------------------- 7.6/7.6 MB 3.8 MB/s eta 0:00:00\n",
      "Requirement already satisfied: numpy!=1.24.0,>=1.20 in c:\\users\\lenovo\\appdata\\local\\programs\\python\\python310\\lib\\site-packages (from seaborn) (1.24.2)\n",
      "Collecting kiwisolver>=1.3.1\n",
      "  Downloading kiwisolver-1.4.5-cp310-cp310-win_amd64.whl (56 kB)\n",
      "     ---------------------------------------- 56.1/56.1 KB 3.1 MB/s eta 0:00:00\n",
      "Requirement already satisfied: python-dateutil>=2.7 in c:\\users\\lenovo\\appdata\\roaming\\python\\python310\\site-packages (from matplotlib!=3.6.1,>=3.3->seaborn) (2.8.2)\n",
      "Collecting fonttools>=4.22.0\n",
      "  Downloading fonttools-4.45.1-cp310-cp310-win_amd64.whl (2.2 MB)\n",
      "     ---------------------------------------- 2.2/2.2 MB 4.0 MB/s eta 0:00:00\n",
      "Collecting contourpy>=1.0.1\n",
      "  Downloading contourpy-1.2.0-cp310-cp310-win_amd64.whl (186 kB)\n",
      "     -------------------------------------- 186.7/186.7 KB 2.8 MB/s eta 0:00:00\n",
      "Collecting cycler>=0.10\n",
      "  Downloading cycler-0.12.1-py3-none-any.whl (8.3 kB)\n",
      "Requirement already satisfied: packaging>=20.0 in c:\\users\\lenovo\\appdata\\local\\programs\\python\\python310\\lib\\site-packages (from matplotlib!=3.6.1,>=3.3->seaborn) (23.1)\n",
      "Collecting pillow>=8\n",
      "  Downloading Pillow-10.1.0-cp310-cp310-win_amd64.whl (2.6 MB)\n",
      "     ---------------------------------------- 2.6/2.6 MB 3.2 MB/s eta 0:00:00\n",
      "Collecting pyparsing>=2.3.1\n",
      "  Downloading pyparsing-3.1.1-py3-none-any.whl (103 kB)\n",
      "     -------------------------------------- 103.1/103.1 KB 2.0 MB/s eta 0:00:00\n",
      "Requirement already satisfied: pytz>=2020.1 in c:\\users\\lenovo\\appdata\\local\\programs\\python\\python310\\lib\\site-packages (from pandas>=1.2->seaborn) (2023.3.post1)\n",
      "Requirement already satisfied: tzdata>=2022.1 in c:\\users\\lenovo\\appdata\\local\\programs\\python\\python310\\lib\\site-packages (from pandas>=1.2->seaborn) (2023.3)\n",
      "Requirement already satisfied: six>=1.5 in c:\\users\\lenovo\\appdata\\local\\programs\\python\\python310\\lib\\site-packages (from python-dateutil>=2.7->matplotlib!=3.6.1,>=3.3->seaborn) (1.16.0)\n",
      "Installing collected packages: pyparsing, pillow, kiwisolver, fonttools, cycler, contourpy, matplotlib, seaborn\n",
      "Successfully installed contourpy-1.2.0 cycler-0.12.1 fonttools-4.45.1 kiwisolver-1.4.5 matplotlib-3.8.2 pillow-10.1.0 pyparsing-3.1.1 seaborn-0.13.0\n"
     ]
    }
   ],
   "source": [
    "%pip install seaborn"
   ]
  },
  {
   "cell_type": "code",
   "execution_count": null,
   "metadata": {},
   "outputs": [],
   "source": []
  }
 ],
 "metadata": {
  "kernelspec": {
   "display_name": "Python 3",
   "language": "python",
   "name": "python3"
  },
  "language_info": {
   "codemirror_mode": {
    "name": "ipython",
    "version": 3
   },
   "file_extension": ".py",
   "mimetype": "text/x-python",
   "name": "python",
   "nbconvert_exporter": "python",
   "pygments_lexer": "ipython3",
   "version": "3.10.5"
  }
 },
 "nbformat": 4,
 "nbformat_minor": 2
}
